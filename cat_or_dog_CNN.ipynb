{
  "nbformat": 4,
  "nbformat_minor": 0,
  "metadata": {
    "colab": {
      "provenance": [],
      "gpuType": "T4",
      "mount_file_id": "1OOoPedgbrSsDWc_RULI0omIA3BlcvWI3",
      "authorship_tag": "ABX9TyOl6cbwk/M6fM9wPSd6xt4J",
      "include_colab_link": true
    },
    "kernelspec": {
      "name": "python3",
      "display_name": "Python 3"
    },
    "language_info": {
      "name": "python"
    },
    "accelerator": "GPU"
  },
  "cells": [
    {
      "cell_type": "markdown",
      "metadata": {
        "id": "view-in-github",
        "colab_type": "text"
      },
      "source": [
        "<a href=\"https://colab.research.google.com/github/nishantdeswal1810/DeepLearning/blob/main/cat_or_dog_CNN.ipynb\" target=\"_parent\"><img src=\"https://colab.research.google.com/assets/colab-badge.svg\" alt=\"Open In Colab\"/></a>"
      ]
    },
    {
      "cell_type": "code",
      "execution_count": null,
      "metadata": {
        "id": "Ez2DocfnqMm8"
      },
      "outputs": [],
      "source": [
        "import pandas as pd\n",
        "import numpy as np\n",
        "import tensorflow as tf\n",
        "from keras.preprocessing.image import ImageDataGenerator"
      ]
    },
    {
      "cell_type": "code",
      "source": [],
      "metadata": {
        "id": "S3UdvbFmqTb7"
      },
      "execution_count": null,
      "outputs": []
    },
    {
      "cell_type": "markdown",
      "source": [
        "# Data Preprocessing"
      ],
      "metadata": {
        "id": "MmQZsuQEr4l5"
      }
    },
    {
      "cell_type": "markdown",
      "source": [
        "## Preprocessing the Training set"
      ],
      "metadata": {
        "id": "KMTUXUw7tLUH"
      }
    },
    {
      "cell_type": "code",
      "source": [
        "train_datagen = ImageDataGenerator(\n",
        "    rescale=1./255,\n",
        "    shear_range=0.2,\n",
        "    zoom_range=0.2,\n",
        "    horizontal_flip=True\n",
        ")\n",
        "\n",
        "training_set = train_datagen.flow_from_directory(\n",
        "    '/content/drive/MyDrive/dataset/training_set',\n",
        "    target_size=(64,64),\n",
        "    batch_size=32,\n",
        "    class_mode='binary'\n",
        ")"
      ],
      "metadata": {
        "colab": {
          "base_uri": "https://localhost:8080/"
        },
        "id": "HRhjHMQksgKi",
        "outputId": "c5a3352c-c243-498b-9c46-1798d2357401"
      },
      "execution_count": null,
      "outputs": [
        {
          "output_type": "stream",
          "name": "stdout",
          "text": [
            "Found 2245 images belonging to 2 classes.\n"
          ]
        }
      ]
    },
    {
      "cell_type": "markdown",
      "source": [
        "## Preprocessing the Test set"
      ],
      "metadata": {
        "id": "GtvDvzmtup7-"
      }
    },
    {
      "cell_type": "code",
      "source": [
        "test_datagen =ImageDataGenerator(rescale=1./255)\n",
        "\n",
        "test_set = test_datagen.flow_from_directory(\n",
        "    '/content/drive/MyDrive/dataset/test_set',\n",
        "    target_size=(64,64),\n",
        "    batch_size=32,\n",
        "    class_mode='binary'\n",
        ")"
      ],
      "metadata": {
        "colab": {
          "base_uri": "https://localhost:8080/"
        },
        "id": "CTsu50x3shui",
        "outputId": "3acb216a-3db1-458c-e958-feee7b9aa067"
      },
      "execution_count": null,
      "outputs": [
        {
          "output_type": "stream",
          "name": "stdout",
          "text": [
            "Found 2000 images belonging to 2 classes.\n"
          ]
        }
      ]
    },
    {
      "cell_type": "markdown",
      "source": [
        "# Building the CNN"
      ],
      "metadata": {
        "id": "JIb2axmfr50q"
      }
    },
    {
      "cell_type": "markdown",
      "source": [
        "## Intialising the CNN"
      ],
      "metadata": {
        "id": "ICMIZgyuvkyB"
      }
    },
    {
      "cell_type": "code",
      "source": [
        "cnn = tf.keras.models.Sequential()"
      ],
      "metadata": {
        "id": "shFQEEdgsh6q"
      },
      "execution_count": null,
      "outputs": []
    },
    {
      "cell_type": "markdown",
      "source": [
        "## Step-1 : CONVOLUTION"
      ],
      "metadata": {
        "id": "ZErRrUy2v5F8"
      }
    },
    {
      "cell_type": "code",
      "source": [
        "cnn.add(tf.keras.layers.Conv2D(filters=32,kernel_size=3, activation='relu',input_shape=[64,64,3]))"
      ],
      "metadata": {
        "id": "FV53RG7svj1R"
      },
      "execution_count": null,
      "outputs": []
    },
    {
      "cell_type": "markdown",
      "source": [
        "## Step-2 : POOLING"
      ],
      "metadata": {
        "id": "JEsQhFjcwoy0"
      }
    },
    {
      "cell_type": "code",
      "source": [
        "cnn.add(tf.keras.layers.MaxPool2D(pool_size=(2,2), strides=2))"
      ],
      "metadata": {
        "id": "k7xbS2sRvnI5"
      },
      "execution_count": null,
      "outputs": []
    },
    {
      "cell_type": "markdown",
      "source": [
        "## Adding a second convolution layer"
      ],
      "metadata": {
        "id": "bGaM2J7-xO7z"
      }
    },
    {
      "cell_type": "code",
      "source": [
        "cnn.add(tf.keras.layers.Conv2D(filters=32,kernel_size=3, activation='relu'))\n",
        "cnn.add(tf.keras.layers.MaxPool2D(pool_size=(2,2), strides=2))"
      ],
      "metadata": {
        "id": "HVZlc_HgxSzK"
      },
      "execution_count": null,
      "outputs": []
    },
    {
      "cell_type": "markdown",
      "source": [
        "## Step -3 : FLATTENING"
      ],
      "metadata": {
        "id": "VcVJ-FNKxg_r"
      }
    },
    {
      "cell_type": "code",
      "source": [
        "cnn.add(tf.keras.layers.Flatten())"
      ],
      "metadata": {
        "id": "O2vs-21sxjr5"
      },
      "execution_count": null,
      "outputs": []
    },
    {
      "cell_type": "markdown",
      "source": [
        "## Step-4: Full Connection"
      ],
      "metadata": {
        "id": "pue27FQ8xxWg"
      }
    },
    {
      "cell_type": "code",
      "source": [
        "cnn.add(tf.keras.layers.Dense(units=128,activation='relu'))"
      ],
      "metadata": {
        "id": "ZJKEldfox0qo"
      },
      "execution_count": null,
      "outputs": []
    },
    {
      "cell_type": "markdown",
      "source": [
        "## Step-5: OUTPUT LAYER"
      ],
      "metadata": {
        "id": "tVTM5G0syCxE"
      }
    },
    {
      "cell_type": "code",
      "source": [
        "cnn.add(tf.keras.layers.Dense(units=1,activation='sigmoid'))"
      ],
      "metadata": {
        "id": "tlXso-a-yGMs"
      },
      "execution_count": null,
      "outputs": []
    },
    {
      "cell_type": "markdown",
      "source": [
        "# Training the CNN"
      ],
      "metadata": {
        "id": "aRyaeFnTyPYh"
      }
    },
    {
      "cell_type": "markdown",
      "source": [
        "## COMPILING THE CNN"
      ],
      "metadata": {
        "id": "JMwhoDOxyW4b"
      }
    },
    {
      "cell_type": "code",
      "source": [
        "cnn.compile(optimizer='adam',loss='binary_crossentropy',metrics=['accuracy'])"
      ],
      "metadata": {
        "id": "x81oPHvCyTYf"
      },
      "execution_count": null,
      "outputs": []
    },
    {
      "cell_type": "markdown",
      "source": [
        "## Training the CNN on the Training set and evaluating it on the Test set"
      ],
      "metadata": {
        "id": "UqBNK0Yuyfi3"
      }
    },
    {
      "cell_type": "code",
      "source": [
        "cnn.fit(x=training_set, validation_data=test_set, epochs=15)"
      ],
      "metadata": {
        "id": "4s-qRq54ylxH"
      },
      "execution_count": null,
      "outputs": []
    },
    {
      "cell_type": "markdown",
      "source": [
        "# Making a single prediction"
      ],
      "metadata": {
        "id": "Ru2YQtcyzMz2"
      }
    },
    {
      "cell_type": "code",
      "source": [
        "import numpy as np\n",
        "from keras.preprocessing import image\n",
        "test_image= image.load_img('dataset/single_prediction/cat_or_dog_1.jpg', target_size=(64,64))\n",
        "\n",
        "test_image= image.img_to_array(test_image)\n",
        "test_image = np.expand_dims(test_image, axis=0)  # we took input in batches( extra dimension)\n",
        "result= cnn.predict(test_image/255.0)\n",
        "training_set.class_indices\n",
        "if result[0][0]>0.5:\n",
        "  prediction='dog'\n",
        "else:\n",
        "  prediction='cat'\n",
        "\n",
        "print(prediction)"
      ],
      "metadata": {
        "id": "ixtaP_YWzQIi"
      },
      "execution_count": null,
      "outputs": []
    }
  ]
}